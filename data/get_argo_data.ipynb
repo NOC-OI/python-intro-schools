{
 "cells": [
  {
   "cell_type": "code",
   "execution_count": null,
   "id": "de42a56d-4a5a-49c7-8a84-06a4271a4330",
   "metadata": {
    "tags": []
   },
   "outputs": [],
   "source": [
    "import argopy\n",
    "import numpy"
   ]
  },
  {
   "cell_type": "code",
   "execution_count": null,
   "id": "2de49576-aeb1-4400-90f1-6b66944bd318",
   "metadata": {
    "tags": []
   },
   "outputs": [],
   "source": [
    "#load an argo profile\n",
    "ds = argopy.DataFetcher().profile(6902746, 12).to_xarray()"
   ]
  },
  {
   "cell_type": "code",
   "execution_count": null,
   "id": "6ae42635-0313-4c7c-ac96-90223aa6e3a1",
   "metadata": {
    "tags": []
   },
   "outputs": [],
   "source": [
    "ds"
   ]
  },
  {
   "cell_type": "code",
   "execution_count": null,
   "id": "17a7e027-57f1-48fe-90e7-064018c3a4c4",
   "metadata": {
    "tags": []
   },
   "outputs": [],
   "source": [
    "#combine the sequence number, salinity, temperature and pressure into a single array\n",
    "data = numpy.dstack((ds.N_POINTS.values, ds.PSAL.values, ds.TEMP.values, ds.PRES.values ))"
   ]
  },
  {
   "cell_type": "code",
   "execution_count": null,
   "id": "d4c1ef69-ddb6-4cf9-8d11-e542fec587eb",
   "metadata": {
    "tags": []
   },
   "outputs": [],
   "source": [
    "#save the data with a header\n",
    "numpy.savetxt(\"argo_data.csv\",data[0],delimiter=\",\",header=\"sequence_num,salinity,temperature,pressure\",fmt='%f')"
   ]
  }
 ],
 "metadata": {
  "kernelspec": {
   "display_name": "Python [conda env:pangeo]",
   "language": "python",
   "name": "conda-env-pangeo-py"
  },
  "language_info": {
   "codemirror_mode": {
    "name": "ipython",
    "version": 3
   },
   "file_extension": ".py",
   "mimetype": "text/x-python",
   "name": "python",
   "nbconvert_exporter": "python",
   "pygments_lexer": "ipython3",
   "version": "3.10.8"
  }
 },
 "nbformat": 4,
 "nbformat_minor": 5
}
